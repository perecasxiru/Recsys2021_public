{
 "cells": [
  {
   "cell_type": "markdown",
   "id": "74cc047b",
   "metadata": {},
   "source": [
    "# Reader Popularity"
   ]
  },
  {
   "cell_type": "markdown",
   "id": "6e7487e0",
   "metadata": {},
   "source": [
    "This notebook computes popularity feature for the reader using the val set."
   ]
  },
  {
   "cell_type": "code",
   "execution_count": 3,
   "id": "86d1ad53",
   "metadata": {},
   "outputs": [],
   "source": [
    "import dask.dataframe as dd\n",
    "import numpy as np\n",
    "import pandas as pd\n",
    "import gc\n",
    "from tqdm.notebook import trange"
   ]
  },
  {
   "cell_type": "code",
   "execution_count": 4,
   "id": "4eef682b",
   "metadata": {},
   "outputs": [],
   "source": [
    "pd.set_option('display.max_rows', 100)\n",
    "pd.set_option('display.max_columns', 500)\n",
    "pd.set_option('display.max_colwidth', 50)"
   ]
  },
  {
   "cell_type": "code",
   "execution_count": 6,
   "id": "37ac3c4d-2102-4e60-9dda-06ba279d5abe",
   "metadata": {},
   "outputs": [],
   "source": [
    "column_type = {\n",
    "    'bert': str, 'hashtags': str, 'tweet_id': str, 'media': str, 'links': str, 'domains': str, 'type': str, 'language': str, 'timestamp': np.uint32,\n",
    "    'AUTH_user_id':str,'AUTH_follower_count':np.uint32,'AUTH_following_count':np.uint32,'AUTH_verified':bool,'AUTH_account_creation':np.uint32,\n",
    "    'READ_user_id': str,'READ_follower_count':np.uint32,'READ_following_count':np.uint32,'READ_verified':bool,'READ_account_creation':np.uint32,\n",
    "    'auth_follows_read': bool,\n",
    "    'reply_timestamp':np.float32,'retweet_timestamp':np.float32,'quote_timestamp':np.float32,'like_timestamp':np.float32\n",
    "}"
   ]
  },
  {
   "cell_type": "markdown",
   "id": "bd593e94",
   "metadata": {},
   "source": [
    "## Reader popularity"
   ]
  },
  {
   "cell_type": "code",
   "execution_count": 7,
   "id": "9d3f0ec7",
   "metadata": {},
   "outputs": [
    {
     "data": {
      "application/vnd.jupyter.widget-view+json": {
       "model_id": "8cdb805dcc074f928ab3cb8614b36e8f",
       "version_major": 2,
       "version_minor": 0
      },
      "text/plain": [
       "  0%|          | 0/168 [00:00<?, ?it/s]"
      ]
     },
     "metadata": {},
     "output_type": "display_data"
    }
   ],
   "source": [
    "# READER POPULARITY\n",
    "\n",
    "df_merge=None\n",
    "df_none=True\n",
    "for idx in trange(504, 504+7*24):\n",
    "    \n",
    "    # Read a csv\n",
    "    df = pd.read_csv(f'/data/recsys/sorted/part-{idx:05d}.csv', \n",
    "                     usecols=['READ_user_id', 'reply_timestamp','retweet_timestamp','quote_timestamp','like_timestamp'], \n",
    "                     dtype=column_type)\n",
    "    \n",
    "    # Transform timestamp to integer (1 if timestamp present, 0 otherwise)\n",
    "    df['reply_timestamp'] = (df['reply_timestamp']>0).astype(int)\n",
    "    df['retweet_timestamp'] = (df['retweet_timestamp']>0).astype(int)\n",
    "    df['quote_timestamp'] = (df['quote_timestamp']>0).astype(int)\n",
    "    df['like_timestamp'] = (df['like_timestamp']>0).astype(int)\n",
    "            \n",
    "    # Cumulated sum (interactions are sorted by timestamp)\n",
    "    df[['reply', 'retweet', 'quote', 'like']] = df.groupby('READ_user_id').cumsum()\n",
    "    \n",
    "    # Cumulated count to know how many repetitions we have\n",
    "    df['READ_count_user_id'] = df.groupby('READ_user_id').cumcount()\n",
    "    \n",
    "    if not df_none:\n",
    "        df = df.set_index('READ_user_id')\n",
    "        \n",
    "        # FIXED: It is important this line to have the reindex at the end, otherwise data will loose its initial order.\n",
    "        # Notebook 04.1 fixes that but here is already corrected\n",
    "        df = df.add(df_merge.loc[df_merge.index.intersection(df.index)].reindex(df.index), fill_value=0)\n",
    "        df = df.reset_index()\n",
    "    \n",
    "    # Compute cumulated mean\n",
    "    df['avg_reply'] = ((df['reply'] - df['reply_timestamp'])/df['READ_count_user_id']).fillna(0)\n",
    "    df['avg_retweet'] = ((df['retweet'] - df['retweet_timestamp'])/df['READ_count_user_id']).fillna(0)\n",
    "    df['avg_quote'] = ((df['quote'] - df['quote_timestamp'])/df['READ_count_user_id']).fillna(0)\n",
    "    df['avg_like'] = ((df['like'] - df['like_timestamp'])/df['READ_count_user_id']).fillna(0) \n",
    "        \n",
    "    # Get sum per user so we know the last value for the next parts\n",
    "    # Rename columns so values will be added to the cumulative ones\n",
    "    df_tmp = df.loc[:,['READ_user_id', 'reply_timestamp','retweet_timestamp','quote_timestamp','like_timestamp']].groupby('READ_user_id').sum()    \n",
    "    df_tmp = df_tmp.rename(columns={'reply_timestamp': 'reply','retweet_timestamp':'retweet',\n",
    "                                        'quote_timestamp':'quote','like_timestamp':'like'})\n",
    "    \n",
    "    # Get the total count per user so we know the appearances of this user\n",
    "    df_tmp[['READ_count_user_id']] = df.groupby('READ_user_id').count().READ_count_user_id\n",
    "    \n",
    "    if df_none:\n",
    "        df_merge = df_tmp\n",
    "    else:\n",
    "        df_merge = df_merge.add(df_tmp, fill_value=0)\n",
    "        \n",
    "    df_none = False\n",
    "    \n",
    "    df[['avg_reply', 'avg_retweet', 'avg_quote', 'avg_like']].to_csv(f'/data/recsys/read_pop/part-{idx:05d}.csv', index=False)\n",
    "    del df_tmp"
   ]
  },
  {
   "cell_type": "code",
   "execution_count": 8,
   "id": "fb2994a1",
   "metadata": {},
   "outputs": [],
   "source": [
    "df_merge.to_csv('/data/recsys/read_pop/read_merge4w.csv')"
   ]
  },
  {
   "cell_type": "code",
   "execution_count": 9,
   "id": "cc347846-00ee-4aa2-8c58-b31cedac49a6",
   "metadata": {},
   "outputs": [],
   "source": [
    "df = pd.read_csv('/data/recsys/read_pop/read_merge4w.csv', dtype={'reply': np.float32, 'retweet': np.float32, 'quote': np.float32, 'like': np.float32})\n",
    "df['reply'] = df['reply']/df['READ_count_user_id']\n",
    "df['retweet'] = df['retweet']/df['READ_count_user_id']\n",
    "df['quote'] = df['quote']/df['READ_count_user_id']\n",
    "df['like'] = df['like']/df['READ_count_user_id']"
   ]
  },
  {
   "cell_type": "code",
   "execution_count": 10,
   "id": "86323ec0-d1ee-462e-867f-9a1e9caf6688",
   "metadata": {},
   "outputs": [],
   "source": [
    "df.drop(columns=['READ_count_user_id']).to_csv('/data/recsys/read_pop/read_merge4w_div.csv', index=False)"
   ]
  },
  {
   "cell_type": "code",
   "execution_count": 11,
   "id": "062e7f91-b53b-4164-9ea0-991eac3fcf47",
   "metadata": {},
   "outputs": [],
   "source": [
    "df.to_csv('/data/recsys/read_pop/read_merge4w_div_counts.csv', index=False)"
   ]
  }
 ],
 "metadata": {
  "kernelspec": {
   "display_name": "Python 3",
   "language": "python",
   "name": "python3"
  },
  "language_info": {
   "codemirror_mode": {
    "name": "ipython",
    "version": 3
   },
   "file_extension": ".py",
   "mimetype": "text/x-python",
   "name": "python",
   "nbconvert_exporter": "python",
   "pygments_lexer": "ipython3",
   "version": "3.8.5"
  }
 },
 "nbformat": 4,
 "nbformat_minor": 5
}
