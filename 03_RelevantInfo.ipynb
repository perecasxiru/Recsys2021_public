{
 "cells": [
  {
   "cell_type": "markdown",
   "metadata": {},
   "source": [
    "This notebook computes relevant info and does the following splits:\n",
    "- It creates a **folder per engagement type:** \n",
    "    + `/data/recsys/like`\n",
    "    + `/data/recsys/retweet`\n",
    "    + `/data/recsys/reply` \n",
    "    + `/data/recsys/quote`"
   ]
  },
  {
   "cell_type": "markdown",
   "metadata": {},
   "source": [
    "## Relevant info (and its computation)"
   ]
  },
  {
   "cell_type": "markdown",
   "metadata": {},
   "source": [
    "+ [x] Total data: **786669259 ~ 786.7M** rows \n",
    "+ [x] Rows with any interaction: **392589591 ~ 392.6M** rows = 49.91%\n",
    "+ [x] Not-like interactions (RT, RP, Q): **95239085 ~ 95.2M** rows = 12.11%\n",
    "+ [x] Like rows: **313167893 ~ 313.2M** rows = 39.81%\n",
    "+ [x] Retweet rows: **68910112 ~ 68.9M** rows = 8.76%\n",
    "+ [x] Reply rows: **23326328 ~ 23.3M** rows = 2.96%\n",
    "+ [x] Quote rows: **5584801 ~ 5.6M** rows = 0.71%\n",
    "+ [x] Timestamps from **1612396800 (4 February 2021 0:00:00)** to **1614211199 (24 February 2021 23:59:59)**\n",
    "+ [x] Unique languages: **66** languages \n",
    "    + **36.13% english** :&nbsp;&nbsp;&nbsp;&nbsp;&nbsp;&nbsp;                        284223607 ~ 284.2M\n",
    "    + **17.16% japanese**:&nbsp;&nbsp;&nbsp;&nbsp;                                    134991416 ~ 135.0M\n",
    "    + **8.37% spanish**: &nbsp;&nbsp;&nbsp;&nbsp;&nbsp;&nbsp;&nbsp;&nbsp;&nbsp;        65897167 ~ 65.9M\n",
    "    + **8.01% portuguese**: &nbsp;&nbsp;                                               63011919 ~ 63.0M\n",
    "    + **6.43% unknown**:&nbsp;&nbsp;&nbsp;&nbsp;&nbsp;&nbsp;&nbsp;                     50546976 ~ 50.5M\n",
    "+ [x] Unique tweet ids: **361305728 ~ 361.3M** unique tweets\n",
    "+ [x] Unique authors: **28470193 ~ 28.5M** unique authors\n",
    "+ [x] Unique readers: **38180129 ~ 38.2M** unique readers\n",
    "+ [x] Unique users: **48154911 ~ 48.2M** unique users\n",
    "+ [ ] Authors but not readers:\n",
    "+ [ ] Readers but not authors:\n",
    "+ [x] Authors and readers: **18495411 ~ 18.5M users** that appear as authors and readers\n",
    "+ [ ] Unique (auth, read)\n",
    "+ [ ] Number of (auth, read - read, auth)"
   ]
  },
  {
   "cell_type": "code",
   "execution_count": 2,
   "metadata": {},
   "outputs": [],
   "source": [
    "# !conda install dask distributed -y"
   ]
  },
  {
   "cell_type": "code",
   "execution_count": 3,
   "metadata": {},
   "outputs": [],
   "source": [
    "import dask"
   ]
  },
  {
   "cell_type": "code",
   "execution_count": 4,
   "metadata": {},
   "outputs": [
    {
     "data": {
      "text/plain": [
       "'2021.04.0'"
      ]
     },
     "execution_count": 4,
     "metadata": {},
     "output_type": "execute_result"
    }
   ],
   "source": [
    "dask.__version__"
   ]
  },
  {
   "cell_type": "code",
   "execution_count": 5,
   "metadata": {},
   "outputs": [
    {
     "data": {
      "text/html": [
       "<table style=\"border: 2px solid white;\">\n",
       "<tr>\n",
       "<td style=\"vertical-align: top; border: 0px solid white\">\n",
       "<h3 style=\"text-align: left;\">Client</h3>\n",
       "<ul style=\"text-align: left; list-style: none; margin: 0; padding: 0;\">\n",
       "  <li><b>Scheduler: </b>tcp://127.0.0.1:36093</li>\n",
       "  <li><b>Dashboard: </b><a href='http://127.0.0.1:8787/status' target='_blank'>http://127.0.0.1:8787/status</a></li>\n",
       "</ul>\n",
       "</td>\n",
       "<td style=\"vertical-align: top; border: 0px solid white\">\n",
       "<h3 style=\"text-align: left;\">Cluster</h3>\n",
       "<ul style=\"text-align: left; list-style:none; margin: 0; padding: 0;\">\n",
       "  <li><b>Workers: </b>6</li>\n",
       "  <li><b>Cores: </b>24</li>\n",
       "  <li><b>Memory: </b>125.60 GiB</li>\n",
       "</ul>\n",
       "</td>\n",
       "</tr>\n",
       "</table>"
      ],
      "text/plain": [
       "<Client: 'tcp://127.0.0.1:36093' processes=6 threads=24, memory=125.60 GiB>"
      ]
     },
     "execution_count": 5,
     "metadata": {},
     "output_type": "execute_result"
    }
   ],
   "source": [
    "from dask.distributed import Client, LocalCluster\n",
    "cluster = LocalCluster()\n",
    "client = Client(cluster)\n",
    "client\n",
    "\n",
    "# OPEN DASK DASHBOARD:\n",
    "# http://161.116.4.126/dask/status"
   ]
  },
  {
   "cell_type": "code",
   "execution_count": 6,
   "metadata": {},
   "outputs": [],
   "source": [
    "import gc\n",
    "import dask.dataframe as dd\n",
    "import pandas as pd\n",
    "import numpy as np"
   ]
  },
  {
   "cell_type": "code",
   "execution_count": 30,
   "metadata": {},
   "outputs": [],
   "source": [
    "column_type={\n",
    "              'bert': str,'hashtags':str,'tweet_id':str,'media':str,'links':str,'domains':str,'type':str,'language':str,'timestamp':np.uint32,\n",
    "              'AUTH_user_id':str,'AUTH_follower_count':np.uint32,'AUTH_following_count':np.uint32,'AUTH_verified':bool,'AUTH_account_creation':np.uint32,\n",
    "              'READ_user_id':str,'READ_follower_count':np.uint32,'READ_following_count':np.uint32,'READ_verified':bool,'READ_account_creation':np.uint32,\n",
    "              'auth_follows_read':bool,\n",
    "              'reply_timestamp':'Int32','retweet_timestamp':'Int32','quote_timestamp':'Int32','like_timestamp':'Int32'\n",
    "            }"
   ]
  },
  {
   "cell_type": "code",
   "execution_count": 13,
   "metadata": {},
   "outputs": [],
   "source": [
    "# blocksize = None # => csv length = partition size # extremadament lent\n",
    "dfd = dd.read_csv('/data/recsys/part-*', names=list(column_type.keys()), \n",
    "                  header=None, sep='\\x01', dtype=column_type)"
   ]
  },
  {
   "cell_type": "markdown",
   "metadata": {},
   "source": [
    "### Total data"
   ]
  },
  {
   "cell_type": "code",
   "execution_count": 8,
   "metadata": {},
   "outputs": [
    {
     "data": {
      "text/plain": [
       "786669259"
      ]
     },
     "execution_count": 8,
     "metadata": {},
     "output_type": "execute_result"
    }
   ],
   "source": [
    "dfd.shape[0].compute()"
   ]
  },
  {
   "cell_type": "markdown",
   "metadata": {},
   "source": [
    "### Any interaction"
   ]
  },
  {
   "cell_type": "code",
   "execution_count": 5,
   "metadata": {},
   "outputs": [
    {
     "data": {
      "text/plain": [
       "392589591"
      ]
     },
     "execution_count": 5,
     "metadata": {},
     "output_type": "execute_result"
    }
   ],
   "source": [
    "dfd[(dfd.reply_timestamp>0) | (dfd.retweet_timestamp>0) | (dfd.quote_timestamp>0) | (dfd.like_timestamp>0)].shape[0].compute()"
   ]
  },
  {
   "cell_type": "markdown",
   "metadata": {},
   "source": [
    "### Not-like interactions"
   ]
  },
  {
   "cell_type": "code",
   "execution_count": 21,
   "metadata": {},
   "outputs": [
    {
     "data": {
      "text/plain": [
       "95239085"
      ]
     },
     "execution_count": 21,
     "metadata": {},
     "output_type": "execute_result"
    }
   ],
   "source": [
    "dfd[(dfd.reply_timestamp>0) | (dfd.retweet_timestamp>0) | (dfd.quote_timestamp>0)].shape[0].compute()"
   ]
  },
  {
   "cell_type": "markdown",
   "metadata": {},
   "source": [
    "### Like, reply, retweet and quote rows"
   ]
  },
  {
   "cell_type": "markdown",
   "metadata": {},
   "source": [
    "Create datasets:\n",
    "\n",
    "```console\n",
    "mkdir /data/recsys/like\n",
    "mkdir /data/recsys/reply\n",
    "mkdir /data/recsys/retweet\n",
    "mkdir /data/recsys/quote\n",
    "```"
   ]
  },
  {
   "cell_type": "code",
   "execution_count": null,
   "metadata": {},
   "outputs": [],
   "source": [
    "# Split data acording to its engagement type\n",
    "gc.collect()\n",
    "dfd[dfd.like_timestamp>0].to_csv('/data/recsys/like/part-*.csv', name_function=lambda i: f\"{i:05d}\", index=False)\n",
    "print('Like done')\n",
    "gc.collect()\n",
    "dfd[dfd.reply_timestamp>0].to_csv('/data/recsys/reply/part-*.csv', name_function=lambda i: f\"{i:05d}\", index=False)\n",
    "print('Reply done')\n",
    "gc.collect()\n",
    "dfd[dfd.retweet_timestamp>0].to_csv('/data/recsys/retweet/part-*.csv', name_function=lambda i: f\"{i:05d}\", index=False)\n",
    "print('Retweet done')\n",
    "gc.collect()\n",
    "dfd[dfd.quote_timestamp>0].to_csv('/data/recsys/quote/part-*.csv', name_function=lambda i: f\"{i:05d}\", index=False)\n",
    "print('Quote done')\n",
    "gc.collect()"
   ]
  },
  {
   "cell_type": "markdown",
   "metadata": {},
   "source": [
    "In a terminal, these lines print the number of rows per engagement's type:\n",
    "```console\n",
    "find /data/recsys/like -type f -exec wc -l {} \\; | tqdm --total 6226 | awk '{total += $1} END{print total}'\n",
    "find /data/recsys/reply -type f -exec wc -l {} \\; | tqdm --total 6226 | awk '{total += $1} END{print total}'\n",
    "find /data/recsys/retweet -type f -exec wc -l {} \\; | tqdm --total 6226 | awk '{total += $1} END{print total}'\n",
    "find /data/recsys/quote -type f -exec wc -l {} \\; | tqdm --total 6226 | awk '{total += $1} END{print total}'\n",
    "```"
   ]
  },
  {
   "cell_type": "markdown",
   "metadata": {},
   "source": [
    "### Tweets per language"
   ]
  },
  {
   "cell_type": "code",
   "execution_count": 8,
   "metadata": {},
   "outputs": [
    {
     "data": {
      "text/html": [
       "<div>\n",
       "<style scoped>\n",
       "    .dataframe tbody tr th:only-of-type {\n",
       "        vertical-align: middle;\n",
       "    }\n",
       "\n",
       "    .dataframe tbody tr th {\n",
       "        vertical-align: top;\n",
       "    }\n",
       "\n",
       "    .dataframe thead th {\n",
       "        text-align: right;\n",
       "    }\n",
       "</style>\n",
       "<table border=\"1\" class=\"dataframe\">\n",
       "  <thead>\n",
       "    <tr style=\"text-align: right;\">\n",
       "      <th></th>\n",
       "      <th>language</th>\n",
       "    </tr>\n",
       "  </thead>\n",
       "  <tbody>\n",
       "    <tr>\n",
       "      <th>0</th>\n",
       "      <td>488B32D24BD4BB44172EB981C1BCA6FA</td>\n",
       "    </tr>\n",
       "    <tr>\n",
       "      <th>1</th>\n",
       "      <td>B0FA488F2911701DD8EC5B1EA5E322D8</td>\n",
       "    </tr>\n",
       "    <tr>\n",
       "      <th>2</th>\n",
       "      <td>B0FA488F2911701DD8EC5B1EA5E322D8</td>\n",
       "    </tr>\n",
       "    <tr>\n",
       "      <th>3</th>\n",
       "      <td>B0FA488F2911701DD8EC5B1EA5E322D8</td>\n",
       "    </tr>\n",
       "    <tr>\n",
       "      <th>4</th>\n",
       "      <td>E7F038DE3EAD397AEC9193686C911677</td>\n",
       "    </tr>\n",
       "  </tbody>\n",
       "</table>\n",
       "</div>"
      ],
      "text/plain": [
       "                           language\n",
       "0  488B32D24BD4BB44172EB981C1BCA6FA\n",
       "1  B0FA488F2911701DD8EC5B1EA5E322D8\n",
       "2  B0FA488F2911701DD8EC5B1EA5E322D8\n",
       "3  B0FA488F2911701DD8EC5B1EA5E322D8\n",
       "4  E7F038DE3EAD397AEC9193686C911677"
      ]
     },
     "execution_count": 8,
     "metadata": {},
     "output_type": "execute_result"
    }
   ],
   "source": [
    "# Read languages only to save ram\n",
    "dfd = dd.read_csv('/data/recsys/part-*', names=list(column_type.keys()), \n",
    "                  header=None, sep='\\x01', usecols=['language'],\n",
    "                  dtype=column_type)\n",
    "dfd.head(5)"
   ]
  },
  {
   "cell_type": "code",
   "execution_count": null,
   "metadata": {},
   "outputs": [],
   "source": [
    "# Count languages and store to disk\n",
    "gc.collect()\n",
    "df_counts = dfd.groupby('language').size()\n",
    "df_counts.name = 'language_counts'\n",
    "df_counts.to_csv('/data/recsys/stats/language_counts.csv', single_file=True)"
   ]
  },
  {
   "cell_type": "code",
   "execution_count": 17,
   "metadata": {},
   "outputs": [
    {
     "data": {
      "text/html": [
       "<div>\n",
       "<style scoped>\n",
       "    .dataframe tbody tr th:only-of-type {\n",
       "        vertical-align: middle;\n",
       "    }\n",
       "\n",
       "    .dataframe tbody tr th {\n",
       "        vertical-align: top;\n",
       "    }\n",
       "\n",
       "    .dataframe thead th {\n",
       "        text-align: right;\n",
       "    }\n",
       "</style>\n",
       "<table border=\"1\" class=\"dataframe\">\n",
       "  <thead>\n",
       "    <tr style=\"text-align: right;\">\n",
       "      <th></th>\n",
       "      <th>language</th>\n",
       "      <th>language_counts</th>\n",
       "    </tr>\n",
       "  </thead>\n",
       "  <tbody>\n",
       "    <tr>\n",
       "      <th>0</th>\n",
       "      <td>488B32D24BD4BB44172EB981C1BCA6FA</td>\n",
       "      <td>284223607</td>\n",
       "    </tr>\n",
       "    <tr>\n",
       "      <th>1</th>\n",
       "      <td>E7F038DE3EAD397AEC9193686C911677</td>\n",
       "      <td>134991416</td>\n",
       "    </tr>\n",
       "    <tr>\n",
       "      <th>2</th>\n",
       "      <td>B0FA488F2911701DD8EC5B1EA5E322D8</td>\n",
       "      <td>65897167</td>\n",
       "    </tr>\n",
       "    <tr>\n",
       "      <th>3</th>\n",
       "      <td>B8B04128918BBF54E2E178BFF1ABA833</td>\n",
       "      <td>63011919</td>\n",
       "    </tr>\n",
       "    <tr>\n",
       "      <th>4</th>\n",
       "      <td>313ECD3A1E5BB07406E4249475C2D6D6</td>\n",
       "      <td>50546976</td>\n",
       "    </tr>\n",
       "  </tbody>\n",
       "</table>\n",
       "</div>"
      ],
      "text/plain": [
       "                           language  language_counts\n",
       "0  488B32D24BD4BB44172EB981C1BCA6FA        284223607\n",
       "1  E7F038DE3EAD397AEC9193686C911677        134991416\n",
       "2  B0FA488F2911701DD8EC5B1EA5E322D8         65897167\n",
       "3  B8B04128918BBF54E2E178BFF1ABA833         63011919\n",
       "4  313ECD3A1E5BB07406E4249475C2D6D6         50546976"
      ]
     },
     "execution_count": 17,
     "metadata": {},
     "output_type": "execute_result"
    }
   ],
   "source": [
    "df_langs = pd.read_csv('/data/recsys/stats/language_counts.csv')\n",
    "df_langs.head()"
   ]
  },
  {
   "cell_type": "code",
   "execution_count": 28,
   "metadata": {},
   "outputs": [
    {
     "name": "stdout",
     "output_type": "stream",
     "text": [
      "488B32D24BD4BB44172EB981C1BCA6FA [CLS] RT @ ErikSolheim : The greatest enemy of knowledge is not ignorance, it is the illusion of knowledge. ¶ ¶ [UNK] Stephen Hawking https : / / t. co / RyXH1xaS [UNK] [SEP]\n",
      "E7F038DE3EAD397AEC9193686C911677 [CLS] 見 て ( [UNK] ｡ [UNK] ｡ [UNK] ) [UNK] ¶ 見 てみて 見 て 見 てみて 皆 見 て ¶ 全 員 見 て ¶ これ 私 [UNK] ( ๑ [UNK] ิ ) [UNK] ¶ ( [UNK] [UNK] ) [UNK]!! https : / / t. co / rmmlUJscX8 [SEP]\n",
      "B0FA488F2911701DD8EC5B1EA5E322D8 [CLS] La cirugía se realizó el pasado 12 de agosto y se prolongó durante unas 23 horas, con la participación de un equipo de más de 140 especialistas, incluidos cirujanos, enfermeros y otro personal, según explicó el hospital en un comunicado https : / / t. co / zBHCZCo7MO [SEP]\n",
      "B8B04128918BBF54E2E178BFF1ABA833 [CLS] O pintor chegou agr e falou [UNK] ah já é 11 : 15h né, nem adianta ficar agr, de tarde eu volto [UNK] shiahsishsu aí aí gente, dai - me paciência hoje viu, tô rindo pra não chorar hsishsishsu [SEP]\n",
      "313ECD3A1E5BB07406E4249475C2D6D6 [CLS] [UNK] [SEP]\n"
     ]
    }
   ],
   "source": [
    "# !pip install transformers\n",
    "from transformers import BertTokenizer\n",
    "tokenizer = BertTokenizer.from_pretrained(\"bert-base-multilingual-cased\")\n",
    "\n",
    "N = 5\n",
    "# English, Japanese, Spanish, Portuguese, [Unknown?]\n",
    "for _, row in df_langs[:N].iterrows():\n",
    "    bert = dfd[dfd.language==row.language].head(1).bert.values[0]\n",
    "    print(row.language, tokenizer.decode(bert.split('\\t')))"
   ]
  },
  {
   "cell_type": "markdown",
   "metadata": {},
   "source": [
    "### Min max timestamp"
   ]
  },
  {
   "cell_type": "code",
   "execution_count": 29,
   "metadata": {},
   "outputs": [
    {
     "data": {
      "text/plain": [
       "(1612396800, 1614211199)"
      ]
     },
     "execution_count": 29,
     "metadata": {},
     "output_type": "execute_result"
    }
   ],
   "source": [
    "dd.compute(dfd.timestamp.min(), dfd.timestamp.max())"
   ]
  },
  {
   "cell_type": "markdown",
   "metadata": {},
   "source": [
    "### Unique AUTHORS"
   ]
  },
  {
   "cell_type": "code",
   "execution_count": null,
   "metadata": {},
   "outputs": [],
   "source": [
    "dfd = dd.read_csv('/data/recsys/sorted/part-*.csv', dtype=column_type)\n",
    "\n",
    "# Author count\n",
    "df_counts = dfd.groupby('AUTH_user_id').size()\n",
    "df_counts.name = 'AUTH_user_id_counts'\n",
    "df_counts.to_csv('/data/recsys/stats/AUTH_user_id_counts.csv', single_file=True)"
   ]
  },
  {
   "cell_type": "markdown",
   "metadata": {},
   "source": [
    "### Unique READERS"
   ]
  },
  {
   "cell_type": "code",
   "execution_count": null,
   "metadata": {},
   "outputs": [],
   "source": [
    "# READ count\n",
    "\n",
    "dfd = dd.read_csv('/data/recsys/sorted/part-*.csv', dtype=column_type)\n",
    "\n",
    "df_counts = dfd.groupby('READ_user_id').size()\n",
    "df_counts.name = 'READ_user_id_counts'\n",
    "df_counts.to_csv('/data/recsys/stats/READ_user_id_counts.csv', single_file=True)"
   ]
  },
  {
   "cell_type": "markdown",
   "metadata": {},
   "source": [
    "### Unique tweets"
   ]
  },
  {
   "cell_type": "code",
   "execution_count": null,
   "metadata": {},
   "outputs": [],
   "source": [
    "# tweet id count\n",
    "\n",
    "dfd = dd.read_csv('/data/recsys/stats/part-*.csv', dtype=column_type)\n",
    "\n",
    "df_counts = dfd.groupby('tweet_id').size()\n",
    "df_counts.name = 'tweet_id_counts'\n",
    "df_counts.to_csv('/data/recsys/stats/tweet_id_counts.csv', single_file=True)\n",
    "\n",
    "# Sort it\n",
    "dd.read_csv('/data/recsys/stats/tweet_id_counts.csv').set_index('tweet_id_counts').reset_index()[['tweet_id', 'tweet_id_counts']].to_csv('/data/recsys/stats/tweet_id_counts.csv', index=False, single_file=True)"
   ]
  },
  {
   "cell_type": "markdown",
   "metadata": {},
   "source": [
    "### User and author"
   ]
  },
  {
   "cell_type": "code",
   "execution_count": null,
   "metadata": {},
   "outputs": [],
   "source": [
    "dd.merge(dd.read_csv('/data/recsys/stats/AUTH_user_id_counts.csv'), \n",
    "         dd.read_csv('/data/recsys/stats/READ_user_id_counts.csv'), \n",
    "         left_on='AUTH_user_id', \n",
    "         right_on='READ_user_id').drop(columns=['READ_user_id']).rename(columns={'AUTH_user_id':'user_id'}).to_csv('/data/recsys/stats/BOTH_user_id_counts.csv', single_file=True, index=False)"
   ]
  },
  {
   "cell_type": "markdown",
   "metadata": {},
   "source": [
    "### Total users"
   ]
  },
  {
   "cell_type": "code",
   "execution_count": null,
   "metadata": {},
   "outputs": [],
   "source": [
    "dd.merge(dd.read_csv('AUTH_user_id_counts.csv'), \n",
    "         dd.read_csv('READ_user_id_counts.csv'), \n",
    "         how='outer',\n",
    "         left_on='AUTH_user_id', \n",
    "         right_on='READ_user_id').drop(columns=['READ_user_id']).rename(columns={'AUTH_user_id':'user_id'}).fillna(0).to_csv('/data/recsys/stats/TOTAL_user_id_counts.csv', single_file=True, index=False)"
   ]
  },
  {
   "cell_type": "markdown",
   "metadata": {},
   "source": [
    "### Bin stats"
   ]
  },
  {
   "cell_type": "code",
   "execution_count": 15,
   "metadata": {},
   "outputs": [],
   "source": [
    "auth = dd.read_csv('/data/recsys/stats/AUTH_follower_count.csv').drop(columns='AUTH_following_count')\n",
    "auth = dd.merge(auth, dd.read_csv('/data/recsys/stats/AUTH_user_id_counts.csv'), on='AUTH_user_id')\n",
    "auth['bin'] = auth['AUTH_follower_count'].map_partitions(pd.cut, bins=[-np.inf, 240, 588, 1331, 3996, np.inf], labels=[0,1,2,3,4], meta=(None, 'i4'))"
   ]
  },
  {
   "cell_type": "code",
   "execution_count": 19,
   "metadata": {},
   "outputs": [
    {
     "data": {
      "text/html": [
       "<div>\n",
       "<style scoped>\n",
       "    .dataframe tbody tr th:only-of-type {\n",
       "        vertical-align: middle;\n",
       "    }\n",
       "\n",
       "    .dataframe tbody tr th {\n",
       "        vertical-align: top;\n",
       "    }\n",
       "\n",
       "    .dataframe thead th {\n",
       "        text-align: right;\n",
       "    }\n",
       "</style>\n",
       "<table border=\"1\" class=\"dataframe\">\n",
       "  <thead>\n",
       "    <tr style=\"text-align: right;\">\n",
       "      <th></th>\n",
       "      <th>AUTH_user_id</th>\n",
       "      <th>AUTH_follower_count</th>\n",
       "      <th>AUTH_user_id_counts</th>\n",
       "    </tr>\n",
       "    <tr>\n",
       "      <th>bin</th>\n",
       "      <th></th>\n",
       "      <th></th>\n",
       "      <th></th>\n",
       "    </tr>\n",
       "  </thead>\n",
       "  <tbody>\n",
       "    <tr>\n",
       "      <th>0</th>\n",
       "      <td>12434818</td>\n",
       "      <td>12434818</td>\n",
       "      <td>12434818</td>\n",
       "    </tr>\n",
       "    <tr>\n",
       "      <th>1</th>\n",
       "      <td>6967162</td>\n",
       "      <td>6967162</td>\n",
       "      <td>6967162</td>\n",
       "    </tr>\n",
       "    <tr>\n",
       "      <th>2</th>\n",
       "      <td>4574481</td>\n",
       "      <td>4574481</td>\n",
       "      <td>4574481</td>\n",
       "    </tr>\n",
       "    <tr>\n",
       "      <th>3</th>\n",
       "      <td>2867191</td>\n",
       "      <td>2867191</td>\n",
       "      <td>2867191</td>\n",
       "    </tr>\n",
       "    <tr>\n",
       "      <th>4</th>\n",
       "      <td>1626540</td>\n",
       "      <td>1626540</td>\n",
       "      <td>1626540</td>\n",
       "    </tr>\n",
       "  </tbody>\n",
       "</table>\n",
       "</div>"
      ],
      "text/plain": [
       "     AUTH_user_id  AUTH_follower_count  AUTH_user_id_counts\n",
       "bin                                                        \n",
       "0        12434818             12434818             12434818\n",
       "1         6967162              6967162              6967162\n",
       "2         4574481              4574481              4574481\n",
       "3         2867191              2867191              2867191\n",
       "4         1626540              1626540              1626540"
      ]
     },
     "execution_count": 19,
     "metadata": {},
     "output_type": "execute_result"
    }
   ],
   "source": [
    "auth.groupby('bin').count().compute()"
   ]
  },
  {
   "cell_type": "code",
   "execution_count": 20,
   "metadata": {},
   "outputs": [
    {
     "data": {
      "text/html": [
       "<div>\n",
       "<style scoped>\n",
       "    .dataframe tbody tr th:only-of-type {\n",
       "        vertical-align: middle;\n",
       "    }\n",
       "\n",
       "    .dataframe tbody tr th {\n",
       "        vertical-align: top;\n",
       "    }\n",
       "\n",
       "    .dataframe thead th {\n",
       "        text-align: right;\n",
       "    }\n",
       "</style>\n",
       "<table border=\"1\" class=\"dataframe\">\n",
       "  <thead>\n",
       "    <tr style=\"text-align: right;\">\n",
       "      <th></th>\n",
       "      <th>AUTH_follower_count</th>\n",
       "      <th>AUTH_user_id_counts</th>\n",
       "    </tr>\n",
       "    <tr>\n",
       "      <th>bin</th>\n",
       "      <th></th>\n",
       "      <th></th>\n",
       "    </tr>\n",
       "  </thead>\n",
       "  <tbody>\n",
       "    <tr>\n",
       "      <th>0</th>\n",
       "      <td>1323608956</td>\n",
       "      <td>78185341</td>\n",
       "    </tr>\n",
       "    <tr>\n",
       "      <th>1</th>\n",
       "      <td>2685498396</td>\n",
       "      <td>82969759</td>\n",
       "    </tr>\n",
       "    <tr>\n",
       "      <th>2</th>\n",
       "      <td>4033405241</td>\n",
       "      <td>90470509</td>\n",
       "    </tr>\n",
       "    <tr>\n",
       "      <th>3</th>\n",
       "      <td>6336041076</td>\n",
       "      <td>111788590</td>\n",
       "    </tr>\n",
       "    <tr>\n",
       "      <th>4</th>\n",
       "      <td>66740469706</td>\n",
       "      <td>423255060</td>\n",
       "    </tr>\n",
       "  </tbody>\n",
       "</table>\n",
       "</div>"
      ],
      "text/plain": [
       "     AUTH_follower_count  AUTH_user_id_counts\n",
       "bin                                          \n",
       "0             1323608956             78185341\n",
       "1             2685498396             82969759\n",
       "2             4033405241             90470509\n",
       "3             6336041076            111788590\n",
       "4            66740469706            423255060"
      ]
     },
     "execution_count": 20,
     "metadata": {},
     "output_type": "execute_result"
    }
   ],
   "source": [
    "st = auth.groupby('bin').sum().compute()\n",
    "st"
   ]
  },
  {
   "cell_type": "code",
   "execution_count": 28,
   "metadata": {},
   "outputs": [
    {
     "data": {
      "text/plain": [
       "bin\n",
       "0    0.099388\n",
       "1    0.105470\n",
       "2    0.115005\n",
       "3    0.142104\n",
       "4    0.538034\n",
       "Name: AUTH_user_id_counts, dtype: float64"
      ]
     },
     "execution_count": 28,
     "metadata": {},
     "output_type": "execute_result"
    }
   ],
   "source": [
    "100*st.AUTH_user_id_counts/sum(st.AUTH_user_id_counts)"
   ]
  },
  {
   "cell_type": "markdown",
   "metadata": {},
   "source": [
    "### Create unique for last week"
   ]
  },
  {
   "cell_type": "code",
   "execution_count": 33,
   "metadata": {},
   "outputs": [
    {
     "data": {
      "text/plain": [
       "['/data/recsys/stats/AUTH_user_id_counts_last_week.csv']"
      ]
     },
     "execution_count": 33,
     "metadata": {},
     "output_type": "execute_result"
    }
   ],
   "source": [
    "dfd = dd.read_csv('/data/recsys/sorted/part-*.csv', dtype=column_type, blocksize=None).partitions[504:]\n",
    "\n",
    "# Author count\n",
    "df_counts = dfd.groupby('AUTH_user_id').size()\n",
    "df_counts.name = 'AUTH_user_id_counts'\n",
    "df_counts.to_csv('/data/recsys/stats/AUTH_user_id_counts_last_week.csv', single_file=True)"
   ]
  },
  {
   "cell_type": "code",
   "execution_count": 34,
   "metadata": {},
   "outputs": [
    {
     "data": {
      "text/plain": [
       "['/data/recsys/stats/AUTH_followers_last_week.csv']"
      ]
     },
     "execution_count": 34,
     "metadata": {},
     "output_type": "execute_result"
    }
   ],
   "source": [
    "dfd = dd.read_csv('/data/recsys/sorted/part-*.csv', dtype=column_type, blocksize=None).partitions[504:]\n",
    "\n",
    "# Author count\n",
    "df_counts = dfd.groupby('AUTH_user_id').last()['AUTH_follower_count']\n",
    "df_counts.name = 'AUTH_user_id_counts'\n",
    "df_counts.to_csv('/data/recsys/stats/AUTH_followers_last_week.csv', single_file=True)"
   ]
  },
  {
   "cell_type": "code",
   "execution_count": 50,
   "metadata": {},
   "outputs": [
    {
     "data": {
      "text/plain": [
       "['/data/recsys/stats/READ_user_id_counts_last_week.csv']"
      ]
     },
     "execution_count": 50,
     "metadata": {},
     "output_type": "execute_result"
    }
   ],
   "source": [
    "dfd = dd.read_csv('/data/recsys/sorted/part-*.csv', dtype=column_type, blocksize=None).partitions[504:]\n",
    "\n",
    "# Author count\n",
    "df_counts = dfd.groupby('READ_user_id').size()\n",
    "df_counts.name = 'READ_user_id_counts'\n",
    "df_counts.to_csv('/data/recsys/stats/READ_user_id_counts_last_week.csv', single_file=True)"
   ]
  },
  {
   "cell_type": "code",
   "execution_count": 51,
   "metadata": {},
   "outputs": [
    {
     "data": {
      "text/plain": [
       "['/data/recsys/stats/READ_followers_last_week.csv']"
      ]
     },
     "execution_count": 51,
     "metadata": {},
     "output_type": "execute_result"
    }
   ],
   "source": [
    "dfd = dd.read_csv('/data/recsys/sorted/part-*.csv', dtype=column_type, blocksize=None).partitions[504:]\n",
    "\n",
    "# Author count\n",
    "df_counts = dfd.groupby('READ_user_id').last()['READ_follower_count']\n",
    "df_counts.name = 'READ_user_id_counts'\n",
    "df_counts.to_csv('/data/recsys/stats/READ_followers_last_week.csv', single_file=True)"
   ]
  },
  {
   "cell_type": "code",
   "execution_count": 41,
   "metadata": {},
   "outputs": [],
   "source": [
    "auth = dd.read_csv('/data/recsys/stats/AUTH_followers_last_week.csv')\n",
    "auth = dd.merge(auth, dd.read_csv('/data/recsys/stats/AUTH_user_id_counts_last_week.csv'), on='AUTH_user_id')\n",
    "auth['bin'] = auth['AUTH_follower_count'].map_partitions(pd.cut, bins=[-np.inf, 240, 588, 1331, 3996, np.inf], labels=[0,1,2,3,4], meta=(None, 'i4'))"
   ]
  },
  {
   "cell_type": "code",
   "execution_count": 42,
   "metadata": {},
   "outputs": [
    {
     "data": {
      "text/html": [
       "<div>\n",
       "<style scoped>\n",
       "    .dataframe tbody tr th:only-of-type {\n",
       "        vertical-align: middle;\n",
       "    }\n",
       "\n",
       "    .dataframe tbody tr th {\n",
       "        vertical-align: top;\n",
       "    }\n",
       "\n",
       "    .dataframe thead th {\n",
       "        text-align: right;\n",
       "    }\n",
       "</style>\n",
       "<table border=\"1\" class=\"dataframe\">\n",
       "  <thead>\n",
       "    <tr style=\"text-align: right;\">\n",
       "      <th></th>\n",
       "      <th>AUTH_user_id</th>\n",
       "      <th>AUTH_follower_count</th>\n",
       "      <th>AUTH_user_id_counts</th>\n",
       "    </tr>\n",
       "    <tr>\n",
       "      <th>bin</th>\n",
       "      <th></th>\n",
       "      <th></th>\n",
       "      <th></th>\n",
       "    </tr>\n",
       "  </thead>\n",
       "  <tbody>\n",
       "    <tr>\n",
       "      <th>0</th>\n",
       "      <td>716154</td>\n",
       "      <td>716154</td>\n",
       "      <td>716154</td>\n",
       "    </tr>\n",
       "    <tr>\n",
       "      <th>1</th>\n",
       "      <td>715580</td>\n",
       "      <td>715580</td>\n",
       "      <td>715580</td>\n",
       "    </tr>\n",
       "    <tr>\n",
       "      <th>2</th>\n",
       "      <td>714150</td>\n",
       "      <td>714150</td>\n",
       "      <td>714150</td>\n",
       "    </tr>\n",
       "    <tr>\n",
       "      <th>3</th>\n",
       "      <td>714975</td>\n",
       "      <td>714975</td>\n",
       "      <td>714975</td>\n",
       "    </tr>\n",
       "    <tr>\n",
       "      <th>4</th>\n",
       "      <td>715106</td>\n",
       "      <td>715106</td>\n",
       "      <td>715106</td>\n",
       "    </tr>\n",
       "  </tbody>\n",
       "</table>\n",
       "</div>"
      ],
      "text/plain": [
       "     AUTH_user_id  AUTH_follower_count  AUTH_user_id_counts\n",
       "bin                                                        \n",
       "0          716154               716154               716154\n",
       "1          715580               715580               715580\n",
       "2          714150               714150               714150\n",
       "3          714975               714975               714975\n",
       "4          715106               715106               715106"
      ]
     },
     "execution_count": 42,
     "metadata": {},
     "output_type": "execute_result"
    }
   ],
   "source": [
    "auth.groupby('bin').count().compute()"
   ]
  },
  {
   "cell_type": "code",
   "execution_count": 43,
   "metadata": {},
   "outputs": [
    {
     "data": {
      "text/html": [
       "<div>\n",
       "<style scoped>\n",
       "    .dataframe tbody tr th:only-of-type {\n",
       "        vertical-align: middle;\n",
       "    }\n",
       "\n",
       "    .dataframe tbody tr th {\n",
       "        vertical-align: top;\n",
       "    }\n",
       "\n",
       "    .dataframe thead th {\n",
       "        text-align: right;\n",
       "    }\n",
       "</style>\n",
       "<table border=\"1\" class=\"dataframe\">\n",
       "  <thead>\n",
       "    <tr style=\"text-align: right;\">\n",
       "      <th></th>\n",
       "      <th>AUTH_follower_count</th>\n",
       "      <th>AUTH_user_id_counts</th>\n",
       "    </tr>\n",
       "    <tr>\n",
       "      <th>bin</th>\n",
       "      <th></th>\n",
       "      <th></th>\n",
       "    </tr>\n",
       "  </thead>\n",
       "  <tbody>\n",
       "    <tr>\n",
       "      <th>0</th>\n",
       "      <td>89974301</td>\n",
       "      <td>901944</td>\n",
       "    </tr>\n",
       "    <tr>\n",
       "      <th>1</th>\n",
       "      <td>283661378</td>\n",
       "      <td>1085691</td>\n",
       "    </tr>\n",
       "    <tr>\n",
       "      <th>2</th>\n",
       "      <td>649361720</td>\n",
       "      <td>1328294</td>\n",
       "    </tr>\n",
       "    <tr>\n",
       "      <th>3</th>\n",
       "      <td>1650975053</td>\n",
       "      <td>1901083</td>\n",
       "    </tr>\n",
       "    <tr>\n",
       "      <th>4</th>\n",
       "      <td>48980211925</td>\n",
       "      <td>9244748</td>\n",
       "    </tr>\n",
       "  </tbody>\n",
       "</table>\n",
       "</div>"
      ],
      "text/plain": [
       "     AUTH_follower_count  AUTH_user_id_counts\n",
       "bin                                          \n",
       "0               89974301               901944\n",
       "1              283661378              1085691\n",
       "2              649361720              1328294\n",
       "3             1650975053              1901083\n",
       "4            48980211925              9244748"
      ]
     },
     "execution_count": 43,
     "metadata": {},
     "output_type": "execute_result"
    }
   ],
   "source": [
    "st = auth.groupby('bin').sum().compute()\n",
    "st"
   ]
  },
  {
   "cell_type": "code",
   "execution_count": 44,
   "metadata": {},
   "outputs": [
    {
     "data": {
      "text/plain": [
       "bin\n",
       "0    0.062368\n",
       "1    0.075073\n",
       "2    0.091849\n",
       "3    0.131456\n",
       "4    0.639255\n",
       "Name: AUTH_user_id_counts, dtype: float64"
      ]
     },
     "execution_count": 44,
     "metadata": {},
     "output_type": "execute_result"
    }
   ],
   "source": [
    "100*st.AUTH_user_id_counts/sum(st.AUTH_user_id_counts)"
   ]
  },
  {
   "cell_type": "markdown",
   "metadata": {},
   "source": [
    "### New authors, new readers"
   ]
  },
  {
   "cell_type": "code",
   "execution_count": 45,
   "metadata": {},
   "outputs": [
    {
     "data": {
      "text/plain": [
       "14461760"
      ]
     },
     "execution_count": 45,
     "metadata": {},
     "output_type": "execute_result"
    }
   ],
   "source": [
    "len(dd.read_csv('/data/recsys/sorted/part-*.csv', dtype=column_type, blocksize=None).partitions[504:])"
   ]
  },
  {
   "cell_type": "code",
   "execution_count": 47,
   "metadata": {},
   "outputs": [],
   "source": [
    "n = len(dd.merge(dd.read_csv('/data/recsys/stats/AUTH_follower_count.csv'), \n",
    "        dd.read_csv('/data/recsys/stats/AUTH_followers_last_week.csv'), \n",
    "        on='AUTH_user_id', how='inner'))\n",
    "n"
   ]
  },
  {
   "cell_type": "code",
   "execution_count": 48,
   "metadata": {},
   "outputs": [
    {
     "data": {
      "text/plain": [
       "5.738451019515011"
      ]
     },
     "execution_count": 48,
     "metadata": {},
     "output_type": "execute_result"
    }
   ],
   "source": [
    "100 - 100*n/len(dd.read_csv('/data/recsys/stats/AUTH_followers_last_week.csv'))"
   ]
  },
  {
   "cell_type": "code",
   "execution_count": 52,
   "metadata": {},
   "outputs": [
    {
     "data": {
      "text/plain": [
       "6142340"
      ]
     },
     "execution_count": 52,
     "metadata": {},
     "output_type": "execute_result"
    }
   ],
   "source": [
    "n = len(dd.merge(dd.read_csv('/data/recsys/stats/READ_follower_count.csv'), \n",
    "        dd.read_csv('/data/recsys/stats/READ_followers_last_week.csv'), \n",
    "        on='READ_user_id', how='inner'))\n",
    "n"
   ]
  },
  {
   "cell_type": "code",
   "execution_count": 53,
   "metadata": {},
   "outputs": [
    {
     "data": {
      "text/plain": [
       "0.30416745116116317"
      ]
     },
     "execution_count": 53,
     "metadata": {},
     "output_type": "execute_result"
    }
   ],
   "source": [
    "100 - 100*n/len(dd.read_csv('/data/recsys/stats/READ_followers_last_week.csv'))"
   ]
  },
  {
   "cell_type": "code",
   "execution_count": null,
   "metadata": {},
   "outputs": [],
   "source": []
  }
 ],
 "metadata": {
  "kernelspec": {
   "display_name": "Python 3",
   "language": "python",
   "name": "python3"
  },
  "language_info": {
   "codemirror_mode": {
    "name": "ipython",
    "version": 3
   },
   "file_extension": ".py",
   "mimetype": "text/x-python",
   "name": "python",
   "nbconvert_exporter": "python",
   "pygments_lexer": "ipython3",
   "version": "3.8.5"
  }
 },
 "nbformat": 4,
 "nbformat_minor": 4
}
