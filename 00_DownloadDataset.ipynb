{
 "cells": [
  {
   "cell_type": "markdown",
   "metadata": {},
   "source": [
    "# Download training dataset"
   ]
  },
  {
   "cell_type": "markdown",
   "metadata": {},
   "source": [
    "1. Generate URL link from [Recsys Page](https://recsys-twitter.com/data/show-downloads).\n",
    "2. Move link from /downloads into /data/recsys\n",
    "3. If not istalled, install aria2c to allow multiple connections and increase download speed: `conda install -c bioconda aria2`\n",
    "4. Open a terminal inside /data/recsys and execute the following command: `aria2c --input-file=training_urls.txt -x10`. This will download all the training files\n",
    "5. If not installed install lzop to decompress the files: `apt-get install lzop`\n",
    "6. From the same terminal inside /data/recsys run: `lzop -d part-00*.lzo`\n",
    "7. Remove compressed files if necessary using `rm -r part-00*.lzo`"
   ]
  }
 ],
 "metadata": {
  "kernelspec": {
   "display_name": "Python 3",
   "language": "python",
   "name": "python3"
  },
  "language_info": {
   "codemirror_mode": {
    "name": "ipython",
    "version": 3
   },
   "file_extension": ".py",
   "mimetype": "text/x-python",
   "name": "python",
   "nbconvert_exporter": "python",
   "pygments_lexer": "ipython3",
   "version": "3.8.5"
  }
 },
 "nbformat": 4,
 "nbformat_minor": 4
}
